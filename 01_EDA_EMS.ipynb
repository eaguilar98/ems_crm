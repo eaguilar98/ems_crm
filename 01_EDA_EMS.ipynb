{
  "nbformat": 4,
  "nbformat_minor": 0,
  "metadata": {
    "colab": {
      "name": "01 EDA EMS.ipynb",
      "provenance": [],
      "collapsed_sections": [],
      "mount_file_id": "https://gist.github.com/eaguilar98/588662b54c181b0f01593f9f32fbadff#file-untitled0-ipynb",
      "authorship_tag": "ABX9TyNnbyQoWFhQ5ON7ZqDBmaOc",
      "include_colab_link": true
    },
    "kernelspec": {
      "name": "python3",
      "display_name": "Python 3"
    },
    "language_info": {
      "name": "python"
    }
  },
  "cells": [
    {
      "cell_type": "markdown",
      "metadata": {
        "id": "view-in-github",
        "colab_type": "text"
      },
      "source": [
        "<a href=\"https://colab.research.google.com/github/eaguilar98/ems_crm/blob/main/01_EDA_EMS.ipynb\" target=\"_parent\"><img src=\"https://colab.research.google.com/assets/colab-badge.svg\" alt=\"Open In Colab\"/></a>"
      ]
    },
    {
      "cell_type": "markdown",
      "source": [
        ""
      ],
      "metadata": {
        "id": "oPorQ2-ZWp3T"
      }
    },
    {
      "cell_type": "markdown",
      "source": [
        "# Analisis de Urgencias medicas Cruz Roja Méxicana del La Paz BCS"
      ],
      "metadata": {
        "id": "Nuh1as5Bu8HJ"
      }
    },
    {
      "cell_type": "markdown",
      "source": [
        "### Informacion comprendida entre 2007-11"
      ],
      "metadata": {
        "id": "iqb47V0tvyNd"
      }
    },
    {
      "cell_type": "markdown",
      "source": [
        "Cruz Roja Mexicana Delegación la Paz atiende un promedio de 400 servicios de urgencias al mes. La información generada de cada servicio incluye la evolución de la escena, la evaluación inicial del paciente, evaluación secundaria y tratamiento. Esta información es capturada y almacenada en una base de datos, mediante un sistema transaccional común en cada delegación del país. Dicho sistema sólo funciona para captura, ya que sólo proporciona algunos reportes básicos, como imprimir la hoja de servicio. Los servicios médicos de urgencias que atiende Cruz Roja Mexicana están documentados en el formato de registro (FRAP), que tiene muchas finalidades entre las cuales podemos destacar: asegurar la continuidad del cuidado del paciente, y sirve como documento legal.\n",
        "\n",
        "Resultaría imposible predecir o prevenir las lesiones o enfermedades que se presentan en la población, no obstante que se pueden realizar análisis de los sucesos generados día con día. El análisis de esta información ayudará a los profesionales de la salud a identificar los sucesos de su población.\n",
        "En las actividades diarias de Cruz Roja Mexicana Delegación La Paz se generan datos como productos secundarios que son el resultado de las operaciones que se realizan en el ámbito. El sistema de captura de información utilizado actualmente es el sistema FRAP.exe, que realiza la recolección de los datos. En la actualidad dicha información está disponible sólo para referencia legal de los servicios brindados, y en ningún otro momento es analizada.\n"
      ],
      "metadata": {
        "id": "8bMPukurwZE5"
      }
    },
    {
      "cell_type": "code",
      "source": [
        "# Este archivo contiene la informacion general relacionada a la urgencia\n",
        "urgencias_medicas = '/content/drive/Othercomputers/Mi Portátil/BI/python/examples/EMS/urgencias_medicas.csv'\n",
        "\n",
        "# Este archivo contiene la información relacionada a todo lo que rodea a la urgencia\n",
        "evaluacion_escena='/content/drive/Othercomputers/Mi Portátil/BI/python/examples/EMS/evaluacion_escena.csv'\n",
        "\n",
        "# Este archivo contiene la informacion relacionada al estado actual del paciente, aqui nos permite identificar los grandes pilares de la atención\n",
        "#El estado de la via area, la reserpiracion y la circulacion\n",
        "evaluacion_inicial='/content/drive/Othercomputers/Mi Portátil/BI/python/examples/EMS/evaluacion_inicial.csv'\n",
        "\n",
        "#Este archivo contiene la informacion relacionadas a los signos vitales del paciente en la urgencia medica\n",
        "signos_vitales='/content/drive/Othercomputers/Mi Portátil/BI/python/examples/EMS/signos_vitales.csv'\n",
        "\n",
        "# Aqui se registra el tratamiento suministrado al paciente durante el servicio\n",
        "tratamiento='/content/drive/Othercomputers/Mi Portátil/BI/python/examples/EMS/tratamiento.csv'"
      ],
      "metadata": {
        "id": "WWpBF2-ita9P"
      },
      "execution_count": 9,
      "outputs": []
    },
    {
      "cell_type": "code",
      "execution_count": 8,
      "metadata": {
        "id": "_79AKcisVZo2"
      },
      "outputs": [],
      "source": [
        "import pandas as pd\n",
        "import numpy as np"
      ]
    },
    {
      "cell_type": "markdown",
      "source": [
        "Importar informacion"
      ],
      "metadata": {
        "id": "XQPYAcOfXfbA"
      }
    },
    {
      "cell_type": "code",
      "source": [
        "# Data frame con la informacion general relacionada a una urgencia medica\n",
        "um_df = pd.read_csv(urgencias_medicas)"
      ],
      "metadata": {
        "id": "OjiU41_OXlP2"
      },
      "execution_count": 10,
      "outputs": []
    }
  ]
}