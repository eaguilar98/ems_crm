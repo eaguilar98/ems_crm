{
  "nbformat": 4,
  "nbformat_minor": 0,
  "metadata": {
    "colab": {
      "name": "01 EDA EMS.ipynb",
      "provenance": [],
      "collapsed_sections": [],
      "mount_file_id": "https://gist.github.com/eaguilar98/588662b54c181b0f01593f9f32fbadff#file-untitled0-ipynb",
      "authorship_tag": "ABX9TyOr++FDVBjGNFCcuPZc0aJg",
      "include_colab_link": true
    },
    "kernelspec": {
      "name": "python3",
      "display_name": "Python 3"
    },
    "language_info": {
      "name": "python"
    }
  },
  "cells": [
    {
      "cell_type": "markdown",
      "metadata": {
        "id": "view-in-github",
        "colab_type": "text"
      },
      "source": [
        "<a href=\"https://colab.research.google.com/github/eaguilar98/ems_crm/blob/main/01_EDA_EMS.ipynb\" target=\"_parent\"><img src=\"https://colab.research.google.com/assets/colab-badge.svg\" alt=\"Open In Colab\"/></a>"
      ]
    },
    {
      "cell_type": "markdown",
      "source": [
        ""
      ],
      "metadata": {
        "id": "oPorQ2-ZWp3T"
      }
    },
    {
      "cell_type": "markdown",
      "source": [
        "# Analisis de Urgencias medicas Cruz Roja Méxicana del La Paz BCS"
      ],
      "metadata": {
        "id": "Nuh1as5Bu8HJ"
      }
    },
    {
      "cell_type": "markdown",
      "source": [
        "### Informacion comprendida entre 2007-11"
      ],
      "metadata": {
        "id": "iqb47V0tvyNd"
      }
    },
    {
      "cell_type": "markdown",
      "source": [
        "Cruz Roja Mexicana Delegación la Paz atiende un promedio de 400 servicios de urgencias al mes. La información generada de cada servicio incluye la evolución de la escena, la evaluación inicial del paciente, evaluación secundaria y tratamiento. Esta información es capturada y almacenada en una base de datos, mediante un sistema transaccional común en cada delegación del país. Dicho sistema sólo funciona para captura, ya que sólo proporciona algunos reportes básicos, como imprimir la hoja de servicio. Los servicios médicos de urgencias que atiende Cruz Roja Mexicana están documentados en el formato de registro (FRAP), que tiene muchas finalidades entre las cuales podemos destacar: asegurar la continuidad del cuidado del paciente, y sirve como documento legal.\n",
        "\n",
        "Resultaría imposible predecir o prevenir las lesiones o enfermedades que se presentan en la población, no obstante que se pueden realizar análisis de los sucesos generados día con día. El análisis de esta información ayudará a los profesionales de la salud a identificar los sucesos de su población.\n",
        "En las actividades diarias de Cruz Roja Mexicana Delegación La Paz se generan datos como productos secundarios que son el resultado de las operaciones que se realizan en el ámbito. El sistema de captura de información utilizado actualmente es el sistema FRAP.exe, que realiza la recolección de los datos. En la actualidad dicha información está disponible sólo para referencia legal de los servicios brindados, y en ningún otro momento es analizada.\n"
      ],
      "metadata": {
        "id": "8bMPukurwZE5"
      }
    },
    {
      "cell_type": "code",
      "source": [
        "# Este archivo contiene la informacion general relacionada a la urgencia\n",
        "urgencias_medicas = '/content/drive/Othercomputers/Mi Portátil/BI/python/examples/EMS/urgencias_medicas.csv'\n",
        "\n",
        "# Este archivo contiene la información relacionada a todo lo que rodea a la urgencia\n",
        "evaluacion_escena='/content/drive/Othercomputers/Mi Portátil/BI/python/examples/EMS/evaluacion_escena.csv'\n",
        "\n",
        "# Este archivo contiene la informacion relacionada al estado actual del paciente, aqui nos permite identificar los grandes pilares de la atención\n",
        "#El estado de la via area, la reserpiracion y la circulacion\n",
        "evaluacion_inicial='/content/drive/Othercomputers/Mi Portátil/BI/python/examples/EMS/evaluacion_inicial.csv'\n",
        "\n",
        "#Este archivo contiene la informacion relacionadas a los signos vitales del paciente en la urgencia medica\n",
        "signos_vitales='/content/drive/Othercomputers/Mi Portátil/BI/python/examples/EMS/signos_vitales.csv'\n",
        "\n",
        "# Aqui se registra el tratamiento suministrado al paciente durante el servicio\n",
        "tratamiento='/content/drive/Othercomputers/Mi Portátil/BI/python/examples/EMS/tratamiento.csv'"
      ],
      "metadata": {
        "id": "WWpBF2-ita9P"
      },
      "execution_count": 16,
      "outputs": []
    },
    {
      "cell_type": "code",
      "execution_count": 17,
      "metadata": {
        "id": "_79AKcisVZo2"
      },
      "outputs": [],
      "source": [
        "import pandas as pd\n",
        "import numpy as np"
      ]
    },
    {
      "cell_type": "markdown",
      "source": [
        "Importar informacion"
      ],
      "metadata": {
        "id": "XQPYAcOfXfbA"
      }
    },
    {
      "cell_type": "markdown",
      "source": [
        "#### **Urgencias medicas** \n",
        "###### Importar y limpiar información"
      ],
      "metadata": {
        "id": "o20Akz4V9OX9"
      }
    },
    {
      "cell_type": "code",
      "source": [
        "# Data frame con la informacion general relacionada a una urgencia medica\n",
        "um_df = pd.read_csv(urgencias_medicas,index_col=0)\n",
        "\n",
        "#generracion el index_col=0 ya que el campo folio es la llave"
      ],
      "metadata": {
        "id": "OjiU41_OXlP2"
      },
      "execution_count": 18,
      "outputs": []
    },
    {
      "cell_type": "code",
      "source": [
        "um_df.info()"
      ],
      "metadata": {
        "colab": {
          "base_uri": "https://localhost:8080/"
        },
        "id": "AYGGNDSc7a_E",
        "outputId": "e92adb10-0a37-4d9f-c229-3ea3f2ed2e11"
      },
      "execution_count": 19,
      "outputs": [
        {
          "output_type": "stream",
          "name": "stdout",
          "text": [
            "<class 'pandas.core.frame.DataFrame'>\n",
            "Int64Index: 7046 entries, 180390 to 4022112\n",
            "Data columns (total 38 columns):\n",
            " #   Column                       Non-Null Count  Dtype \n",
            "---  ------                       --------------  ----- \n",
            " 0   Fecha                        7046 non-null   object\n",
            " 1   DiaSemana                    7046 non-null   int64 \n",
            " 2   TiempoRespuesta              7046 non-null   int64 \n",
            " 3   HoraDorada                   7046 non-null   int64 \n",
            " 4   MinutosPlatino               7046 non-null   int64 \n",
            " 5   TiempoLlegada                7046 non-null   int64 \n",
            " 6   TiempoServicio               7046 non-null   int64 \n",
            " 7   TiempoTraslado               7046 non-null   int64 \n",
            " 8   MotivoAtencion               7046 non-null   object\n",
            " 9   AgenteCausal_OrigenProbable  5551 non-null   object\n",
            " 10  NumeroUnidad                 6807 non-null   object\n",
            " 11  Operador                     6805 non-null   object\n",
            " 12  jefeServicio                 7046 non-null   object\n",
            " 13  Prestador1                   1419 non-null   object\n",
            " 14  Prestador2                   1419 non-null   object\n",
            " 15  Filiacion                    6560 non-null   object\n",
            " 16  Sexo                         7046 non-null   object\n",
            " 17  EdadAnios                    7046 non-null   int64 \n",
            " 18  EdadMeses                    7046 non-null   int64 \n",
            " 19  Tipo_Paciente                7046 non-null   object\n",
            " 20  CallePaciente                6153 non-null   object\n",
            " 21  NumeroCasaPaciente           1647 non-null   object\n",
            " 22  ColoniaPaciente              6103 non-null   object\n",
            " 23  MunicipioPaciente            6352 non-null   object\n",
            " 24  TelefonoPaciente             1486 non-null   object\n",
            " 25  OcupacionPaciente            5282 non-null   object\n",
            " 26  Derechohabiente              5974 non-null   object\n",
            " 27  CondicionPaciente            7046 non-null   object\n",
            " 28  PrioridadPaciente            7046 non-null   object\n",
            " 29  TraumaScore                  7046 non-null   int64 \n",
            " 30  Glassgow                     7046 non-null   int64 \n",
            " 31  Traslado                     7046 non-null   object\n",
            " 32  TrasladoPacienteCondicion    7046 non-null   object\n",
            " 33  TrasladoPacientePrioridad    7046 non-null   object\n",
            " 34  Cancelado                    7046 non-null   int64 \n",
            " 35  C                            7046 non-null   int64 \n",
            " 36  UrgenciaTraslado             7046 non-null   object\n",
            " 37  Horario                      7046 non-null   object\n",
            "dtypes: int64(13), object(25)\n",
            "memory usage: 2.1+ MB\n"
          ]
        }
      ]
    },
    {
      "cell_type": "code",
      "source": [
        "# borrramos algunas columnas que no son necesarias para el analisis. Son columnas de libre texto que por el momento no aportan valor\n",
        "um_df.drop(columns={\n",
        "    \"NumeroUnidad\",\n",
        "    \"Operador\",\n",
        "    \"jefeServicio\",\n",
        "    \"Prestador1\",\n",
        "    \"Prestador2\",\n",
        "    \"Filiacion\",\n",
        "    \"CallePaciente\",\n",
        "    \"NumeroCasaPaciente\",\n",
        "    \"ColoniaPaciente\",\n",
        "    \"MunicipioPaciente\",\n",
        "    \"TelefonoPaciente\",\n",
        "    \"OcupacionPaciente\"\n",
        "}, inplace=True)"
      ],
      "metadata": {
        "id": "QK2k2vwS9Is-"
      },
      "execution_count": 21,
      "outputs": []
    },
    {
      "cell_type": "code",
      "source": [
        "um_df.info()"
      ],
      "metadata": {
        "colab": {
          "base_uri": "https://localhost:8080/"
        },
        "id": "0sz1HvnU9miO",
        "outputId": "7891e5b2-bca6-42aa-b106-ca4dc8d36e1f"
      },
      "execution_count": 22,
      "outputs": [
        {
          "output_type": "stream",
          "name": "stdout",
          "text": [
            "<class 'pandas.core.frame.DataFrame'>\n",
            "Int64Index: 7046 entries, 180390 to 4022112\n",
            "Data columns (total 26 columns):\n",
            " #   Column                       Non-Null Count  Dtype \n",
            "---  ------                       --------------  ----- \n",
            " 0   Fecha                        7046 non-null   object\n",
            " 1   DiaSemana                    7046 non-null   int64 \n",
            " 2   TiempoRespuesta              7046 non-null   int64 \n",
            " 3   HoraDorada                   7046 non-null   int64 \n",
            " 4   MinutosPlatino               7046 non-null   int64 \n",
            " 5   TiempoLlegada                7046 non-null   int64 \n",
            " 6   TiempoServicio               7046 non-null   int64 \n",
            " 7   TiempoTraslado               7046 non-null   int64 \n",
            " 8   MotivoAtencion               7046 non-null   object\n",
            " 9   AgenteCausal_OrigenProbable  5551 non-null   object\n",
            " 10  Sexo                         7046 non-null   object\n",
            " 11  EdadAnios                    7046 non-null   int64 \n",
            " 12  EdadMeses                    7046 non-null   int64 \n",
            " 13  Tipo_Paciente                7046 non-null   object\n",
            " 14  Derechohabiente              5974 non-null   object\n",
            " 15  CondicionPaciente            7046 non-null   object\n",
            " 16  PrioridadPaciente            7046 non-null   object\n",
            " 17  TraumaScore                  7046 non-null   int64 \n",
            " 18  Glassgow                     7046 non-null   int64 \n",
            " 19  Traslado                     7046 non-null   object\n",
            " 20  TrasladoPacienteCondicion    7046 non-null   object\n",
            " 21  TrasladoPacientePrioridad    7046 non-null   object\n",
            " 22  Cancelado                    7046 non-null   int64 \n",
            " 23  C                            7046 non-null   int64 \n",
            " 24  UrgenciaTraslado             7046 non-null   object\n",
            " 25  Horario                      7046 non-null   object\n",
            "dtypes: int64(13), object(13)\n",
            "memory usage: 1.5+ MB\n"
          ]
        }
      ]
    },
    {
      "cell_type": "code",
      "source": [
        "um_df.head()"
      ],
      "metadata": {
        "colab": {
          "base_uri": "https://localhost:8080/",
          "height": 388
        },
        "id": "9kra65bmAJ5r",
        "outputId": "4465aba0-9be9-4bc0-923f-460040e6438a"
      },
      "execution_count": 23,
      "outputs": [
        {
          "output_type": "execute_result",
          "data": {
            "text/html": [
              "\n",
              "  <div id=\"df-4767f6be-6fb9-4f1a-a080-fbe44644b631\">\n",
              "    <div class=\"colab-df-container\">\n",
              "      <div>\n",
              "<style scoped>\n",
              "    .dataframe tbody tr th:only-of-type {\n",
              "        vertical-align: middle;\n",
              "    }\n",
              "\n",
              "    .dataframe tbody tr th {\n",
              "        vertical-align: top;\n",
              "    }\n",
              "\n",
              "    .dataframe thead th {\n",
              "        text-align: right;\n",
              "    }\n",
              "</style>\n",
              "<table border=\"1\" class=\"dataframe\">\n",
              "  <thead>\n",
              "    <tr style=\"text-align: right;\">\n",
              "      <th></th>\n",
              "      <th>Fecha</th>\n",
              "      <th>DiaSemana</th>\n",
              "      <th>TiempoRespuesta</th>\n",
              "      <th>HoraDorada</th>\n",
              "      <th>MinutosPlatino</th>\n",
              "      <th>TiempoLlegada</th>\n",
              "      <th>TiempoServicio</th>\n",
              "      <th>TiempoTraslado</th>\n",
              "      <th>MotivoAtencion</th>\n",
              "      <th>AgenteCausal_OrigenProbable</th>\n",
              "      <th>Sexo</th>\n",
              "      <th>EdadAnios</th>\n",
              "      <th>EdadMeses</th>\n",
              "      <th>Tipo_Paciente</th>\n",
              "      <th>Derechohabiente</th>\n",
              "      <th>CondicionPaciente</th>\n",
              "      <th>PrioridadPaciente</th>\n",
              "      <th>TraumaScore</th>\n",
              "      <th>Glassgow</th>\n",
              "      <th>Traslado</th>\n",
              "      <th>TrasladoPacienteCondicion</th>\n",
              "      <th>TrasladoPacientePrioridad</th>\n",
              "      <th>Cancelado</th>\n",
              "      <th>C</th>\n",
              "      <th>UrgenciaTraslado</th>\n",
              "      <th>Horario</th>\n",
              "    </tr>\n",
              "    <tr>\n",
              "      <th>Folio</th>\n",
              "      <th></th>\n",
              "      <th></th>\n",
              "      <th></th>\n",
              "      <th></th>\n",
              "      <th></th>\n",
              "      <th></th>\n",
              "      <th></th>\n",
              "      <th></th>\n",
              "      <th></th>\n",
              "      <th></th>\n",
              "      <th></th>\n",
              "      <th></th>\n",
              "      <th></th>\n",
              "      <th></th>\n",
              "      <th></th>\n",
              "      <th></th>\n",
              "      <th></th>\n",
              "      <th></th>\n",
              "      <th></th>\n",
              "      <th></th>\n",
              "      <th></th>\n",
              "      <th></th>\n",
              "      <th></th>\n",
              "      <th></th>\n",
              "      <th></th>\n",
              "      <th></th>\n",
              "    </tr>\n",
              "  </thead>\n",
              "  <tbody>\n",
              "    <tr>\n",
              "      <th>180390</th>\n",
              "      <td>04/10/2007</td>\n",
              "      <td>4</td>\n",
              "      <td>0</td>\n",
              "      <td>0</td>\n",
              "      <td>0</td>\n",
              "      <td>7</td>\n",
              "      <td>46</td>\n",
              "      <td>0</td>\n",
              "      <td>ENFERMEDAD</td>\n",
              "      <td>MUSCULO ESQUELETICO</td>\n",
              "      <td>F</td>\n",
              "      <td>59</td>\n",
              "      <td>0</td>\n",
              "      <td>ADULTO</td>\n",
              "      <td>IMSS</td>\n",
              "      <td>CRITICO INESTABLE</td>\n",
              "      <td>VERDE</td>\n",
              "      <td>0</td>\n",
              "      <td>15</td>\n",
              "      <td>NINGUNO</td>\n",
              "      <td>CRITICO INESTABLE</td>\n",
              "      <td>ROJO</td>\n",
              "      <td>0</td>\n",
              "      <td>1</td>\n",
              "      <td>NO</td>\n",
              "      <td>VESPERTINO</td>\n",
              "    </tr>\n",
              "    <tr>\n",
              "      <th>180391</th>\n",
              "      <td>04/10/2007</td>\n",
              "      <td>4</td>\n",
              "      <td>2</td>\n",
              "      <td>-58515335</td>\n",
              "      <td>343</td>\n",
              "      <td>10</td>\n",
              "      <td>23</td>\n",
              "      <td>-58515690</td>\n",
              "      <td>ENFERMEDAD</td>\n",
              "      <td>RESPIRATORIO</td>\n",
              "      <td>M</td>\n",
              "      <td>44</td>\n",
              "      <td>0</td>\n",
              "      <td>ADULTO</td>\n",
              "      <td>NINGUNA</td>\n",
              "      <td>NO CRITICO ESTABLE</td>\n",
              "      <td>ROJO</td>\n",
              "      <td>0</td>\n",
              "      <td>0</td>\n",
              "      <td>NINGUNO</td>\n",
              "      <td>NO CRITICO ESTABLE</td>\n",
              "      <td>VERDE</td>\n",
              "      <td>0</td>\n",
              "      <td>1</td>\n",
              "      <td>SI</td>\n",
              "      <td>VESPERTINO</td>\n",
              "    </tr>\n",
              "    <tr>\n",
              "      <th>180392</th>\n",
              "      <td>04/10/2007</td>\n",
              "      <td>4</td>\n",
              "      <td>-5</td>\n",
              "      <td>0</td>\n",
              "      <td>0</td>\n",
              "      <td>-58515384</td>\n",
              "      <td>-58515384</td>\n",
              "      <td>0</td>\n",
              "      <td>ENFERMEDAD</td>\n",
              "      <td>NaN</td>\n",
              "      <td>F</td>\n",
              "      <td>0</td>\n",
              "      <td>0</td>\n",
              "      <td>DESCONOCID</td>\n",
              "      <td>NaN</td>\n",
              "      <td>CRITICO INESTABLE</td>\n",
              "      <td>ROJO</td>\n",
              "      <td>0</td>\n",
              "      <td>0</td>\n",
              "      <td>NINGUNO</td>\n",
              "      <td>CRITICO INESTABLE</td>\n",
              "      <td>ROJO</td>\n",
              "      <td>1</td>\n",
              "      <td>1</td>\n",
              "      <td>SI</td>\n",
              "      <td>VESPERTINO</td>\n",
              "    </tr>\n",
              "    <tr>\n",
              "      <th>180393</th>\n",
              "      <td>04/10/2007</td>\n",
              "      <td>4</td>\n",
              "      <td>1</td>\n",
              "      <td>0</td>\n",
              "      <td>0</td>\n",
              "      <td>1</td>\n",
              "      <td>32</td>\n",
              "      <td>0</td>\n",
              "      <td>TRAUMATISMO</td>\n",
              "      <td>HERRAMIENTA</td>\n",
              "      <td>M</td>\n",
              "      <td>39</td>\n",
              "      <td>0</td>\n",
              "      <td>ADULTO</td>\n",
              "      <td>HOSPITAL GENERAL</td>\n",
              "      <td>NO CRITICO ESTABLE</td>\n",
              "      <td>VERDE</td>\n",
              "      <td>0</td>\n",
              "      <td>15</td>\n",
              "      <td>NINGUNO</td>\n",
              "      <td>NO CRITICO ESTABLE</td>\n",
              "      <td>VERDE</td>\n",
              "      <td>0</td>\n",
              "      <td>1</td>\n",
              "      <td>NO</td>\n",
              "      <td>VESPERTINO</td>\n",
              "    </tr>\n",
              "    <tr>\n",
              "      <th>180395</th>\n",
              "      <td>04/10/2007</td>\n",
              "      <td>4</td>\n",
              "      <td>0</td>\n",
              "      <td>0</td>\n",
              "      <td>0</td>\n",
              "      <td>20</td>\n",
              "      <td>6</td>\n",
              "      <td>0</td>\n",
              "      <td>ENFERMEDAD</td>\n",
              "      <td>NEUROLOGICA</td>\n",
              "      <td>F</td>\n",
              "      <td>91</td>\n",
              "      <td>0</td>\n",
              "      <td>GERIATRICO</td>\n",
              "      <td>SEGURO POPULAR</td>\n",
              "      <td>NO CRITICO ESTABLE</td>\n",
              "      <td>VERDE</td>\n",
              "      <td>0</td>\n",
              "      <td>15</td>\n",
              "      <td>NINGUNO</td>\n",
              "      <td>NO CRITICO ESTABLE</td>\n",
              "      <td>VERDE</td>\n",
              "      <td>0</td>\n",
              "      <td>1</td>\n",
              "      <td>NO</td>\n",
              "      <td>VESPERTINO</td>\n",
              "    </tr>\n",
              "  </tbody>\n",
              "</table>\n",
              "</div>\n",
              "      <button class=\"colab-df-convert\" onclick=\"convertToInteractive('df-4767f6be-6fb9-4f1a-a080-fbe44644b631')\"\n",
              "              title=\"Convert this dataframe to an interactive table.\"\n",
              "              style=\"display:none;\">\n",
              "        \n",
              "  <svg xmlns=\"http://www.w3.org/2000/svg\" height=\"24px\"viewBox=\"0 0 24 24\"\n",
              "       width=\"24px\">\n",
              "    <path d=\"M0 0h24v24H0V0z\" fill=\"none\"/>\n",
              "    <path d=\"M18.56 5.44l.94 2.06.94-2.06 2.06-.94-2.06-.94-.94-2.06-.94 2.06-2.06.94zm-11 1L8.5 8.5l.94-2.06 2.06-.94-2.06-.94L8.5 2.5l-.94 2.06-2.06.94zm10 10l.94 2.06.94-2.06 2.06-.94-2.06-.94-.94-2.06-.94 2.06-2.06.94z\"/><path d=\"M17.41 7.96l-1.37-1.37c-.4-.4-.92-.59-1.43-.59-.52 0-1.04.2-1.43.59L10.3 9.45l-7.72 7.72c-.78.78-.78 2.05 0 2.83L4 21.41c.39.39.9.59 1.41.59.51 0 1.02-.2 1.41-.59l7.78-7.78 2.81-2.81c.8-.78.8-2.07 0-2.86zM5.41 20L4 18.59l7.72-7.72 1.47 1.35L5.41 20z\"/>\n",
              "  </svg>\n",
              "      </button>\n",
              "      \n",
              "  <style>\n",
              "    .colab-df-container {\n",
              "      display:flex;\n",
              "      flex-wrap:wrap;\n",
              "      gap: 12px;\n",
              "    }\n",
              "\n",
              "    .colab-df-convert {\n",
              "      background-color: #E8F0FE;\n",
              "      border: none;\n",
              "      border-radius: 50%;\n",
              "      cursor: pointer;\n",
              "      display: none;\n",
              "      fill: #1967D2;\n",
              "      height: 32px;\n",
              "      padding: 0 0 0 0;\n",
              "      width: 32px;\n",
              "    }\n",
              "\n",
              "    .colab-df-convert:hover {\n",
              "      background-color: #E2EBFA;\n",
              "      box-shadow: 0px 1px 2px rgba(60, 64, 67, 0.3), 0px 1px 3px 1px rgba(60, 64, 67, 0.15);\n",
              "      fill: #174EA6;\n",
              "    }\n",
              "\n",
              "    [theme=dark] .colab-df-convert {\n",
              "      background-color: #3B4455;\n",
              "      fill: #D2E3FC;\n",
              "    }\n",
              "\n",
              "    [theme=dark] .colab-df-convert:hover {\n",
              "      background-color: #434B5C;\n",
              "      box-shadow: 0px 1px 3px 1px rgba(0, 0, 0, 0.15);\n",
              "      filter: drop-shadow(0px 1px 2px rgba(0, 0, 0, 0.3));\n",
              "      fill: #FFFFFF;\n",
              "    }\n",
              "  </style>\n",
              "\n",
              "      <script>\n",
              "        const buttonEl =\n",
              "          document.querySelector('#df-4767f6be-6fb9-4f1a-a080-fbe44644b631 button.colab-df-convert');\n",
              "        buttonEl.style.display =\n",
              "          google.colab.kernel.accessAllowed ? 'block' : 'none';\n",
              "\n",
              "        async function convertToInteractive(key) {\n",
              "          const element = document.querySelector('#df-4767f6be-6fb9-4f1a-a080-fbe44644b631');\n",
              "          const dataTable =\n",
              "            await google.colab.kernel.invokeFunction('convertToInteractive',\n",
              "                                                     [key], {});\n",
              "          if (!dataTable) return;\n",
              "\n",
              "          const docLinkHtml = 'Like what you see? Visit the ' +\n",
              "            '<a target=\"_blank\" href=https://colab.research.google.com/notebooks/data_table.ipynb>data table notebook</a>'\n",
              "            + ' to learn more about interactive tables.';\n",
              "          element.innerHTML = '';\n",
              "          dataTable['output_type'] = 'display_data';\n",
              "          await google.colab.output.renderOutput(dataTable, element);\n",
              "          const docLink = document.createElement('div');\n",
              "          docLink.innerHTML = docLinkHtml;\n",
              "          element.appendChild(docLink);\n",
              "        }\n",
              "      </script>\n",
              "    </div>\n",
              "  </div>\n",
              "  "
            ],
            "text/plain": [
              "             Fecha  DiaSemana  TiempoRespuesta  ...  C  UrgenciaTraslado     Horario\n",
              "Folio                                           ...                                 \n",
              "180390  04/10/2007          4                0  ...  1                NO  VESPERTINO\n",
              "180391  04/10/2007          4                2  ...  1                SI  VESPERTINO\n",
              "180392  04/10/2007          4               -5  ...  1                SI  VESPERTINO\n",
              "180393  04/10/2007          4                1  ...  1                NO  VESPERTINO\n",
              "180395  04/10/2007          4                0  ...  1                NO  VESPERTINO\n",
              "\n",
              "[5 rows x 26 columns]"
            ]
          },
          "metadata": {},
          "execution_count": 23
        }
      ]
    }
  ]
}